{
 "cells": [
  {
   "cell_type": "code",
   "execution_count": 5,
   "id": "f87e1161-aa54-4c95-8dda-6daf2e37a342",
   "metadata": {},
   "outputs": [],
   "source": [
    "from selenium import webdriver\n",
    "from selenium.webdriver.common.by import By\n",
    "from selenium.webdriver import ActionChains"
   ]
  },
  {
   "cell_type": "code",
   "execution_count": 10,
   "id": "200a751c-0f7a-4d03-ba9b-8a9103769bed",
   "metadata": {},
   "outputs": [],
   "source": [
    "driver = webdriver.Chrome()"
   ]
  },
  {
   "cell_type": "code",
   "execution_count": 11,
   "id": "cb992ac0-01d1-4653-af39-98b86bfea32c",
   "metadata": {},
   "outputs": [],
   "source": [
    "url = 'https://scholar.google.com/scholar?cites=10143779580305681961&as_sdt=2005&sciodt=0,5&hl=ko'\n",
    "driver.get(url)"
   ]
  },
  {
   "cell_type": "code",
   "execution_count": 16,
   "id": "ff64feed-6b16-44f0-ad4c-ef19bf565ae5",
   "metadata": {},
   "outputs": [
    {
     "name": "stdout",
     "output_type": "stream",
     "text": [
      "50\n",
      "100\n",
      "150\n",
      "200\n",
      "250\n",
      "300\n",
      "350\n",
      "400\n",
      "450\n"
     ]
    },
    {
     "ename": "NoSuchElementException",
     "evalue": "Message: no such element: Unable to locate element: {\"method\":\"css selector\",\"selector\":\"#gs_n > center > table > tbody > tr > td:nth-child(12) > a > b\"}\n  (Session info: chrome=103.0.5060.53)\nStacktrace:\n#0 0x5618c4c49b13 <unknown>\n#1 0x5618c4a50688 <unknown>\n#2 0x5618c4a87cc7 <unknown>\n#3 0x5618c4a87e91 <unknown>\n#4 0x5618c4abae34 <unknown>\n#5 0x5618c4aa58dd <unknown>\n#6 0x5618c4ab8b94 <unknown>\n#7 0x5618c4aa57a3 <unknown>\n#8 0x5618c4a7b0ea <unknown>\n#9 0x5618c4a7c225 <unknown>\n#10 0x5618c4c912dd <unknown>\n#11 0x5618c4c952c7 <unknown>\n#12 0x5618c4c7b22e <unknown>\n#13 0x5618c4c960a8 <unknown>\n#14 0x5618c4c6fbc0 <unknown>\n#15 0x5618c4cb26c8 <unknown>\n#16 0x5618c4cb2848 <unknown>\n#17 0x5618c4cccc0d <unknown>\n#18 0x7fe681088609 <unknown>\n",
     "output_type": "error",
     "traceback": [
      "\u001b[0;31m---------------------------------------------------------------------------\u001b[0m",
      "\u001b[0;31mNoSuchElementException\u001b[0m                    Traceback (most recent call last)",
      "\u001b[0;32m/tmp/ipykernel_668827/1843545600.py\u001b[0m in \u001b[0;36m<module>\u001b[0;34m\u001b[0m\n\u001b[1;32m     15\u001b[0m         \u001b[0;32mexcept\u001b[0m\u001b[0;34m:\u001b[0m\u001b[0;34m\u001b[0m\u001b[0;34m\u001b[0m\u001b[0m\n\u001b[1;32m     16\u001b[0m             \u001b[0;32mbreak\u001b[0m\u001b[0;34m\u001b[0m\u001b[0;34m\u001b[0m\u001b[0m\n\u001b[0;32m---> 17\u001b[0;31m     \u001b[0mnext_link\u001b[0m \u001b[0;34m=\u001b[0m \u001b[0mdriver\u001b[0m\u001b[0;34m.\u001b[0m\u001b[0mfind_element\u001b[0m\u001b[0;34m(\u001b[0m\u001b[0mBy\u001b[0m\u001b[0;34m.\u001b[0m\u001b[0mCSS_SELECTOR\u001b[0m\u001b[0;34m,\u001b[0m \u001b[0mvalue\u001b[0m \u001b[0;34m=\u001b[0m \u001b[0;34m'#gs_n > center > table > tbody > tr > td:nth-child(12) > a > b'\u001b[0m\u001b[0;34m)\u001b[0m\u001b[0;34m\u001b[0m\u001b[0;34m\u001b[0m\u001b[0m\n\u001b[0m\u001b[1;32m     18\u001b[0m     \u001b[0;32mif\u001b[0m \u001b[0mnext_link\u001b[0m\u001b[0;34m:\u001b[0m\u001b[0;34m\u001b[0m\u001b[0;34m\u001b[0m\u001b[0m\n\u001b[1;32m     19\u001b[0m         \u001b[0;31m# somthing element 까지 스크롤\u001b[0m\u001b[0;34m\u001b[0m\u001b[0;34m\u001b[0m\u001b[0m\n",
      "\u001b[0;32m~/anaconda3/lib/python3.9/site-packages/selenium/webdriver/remote/webdriver.py\u001b[0m in \u001b[0;36mfind_element\u001b[0;34m(self, by, value)\u001b[0m\n\u001b[1;32m    855\u001b[0m             \u001b[0mvalue\u001b[0m \u001b[0;34m=\u001b[0m \u001b[0;34m'[name=\"%s\"]'\u001b[0m \u001b[0;34m%\u001b[0m \u001b[0mvalue\u001b[0m\u001b[0;34m\u001b[0m\u001b[0;34m\u001b[0m\u001b[0m\n\u001b[1;32m    856\u001b[0m \u001b[0;34m\u001b[0m\u001b[0m\n\u001b[0;32m--> 857\u001b[0;31m         return self.execute(Command.FIND_ELEMENT, {\n\u001b[0m\u001b[1;32m    858\u001b[0m             \u001b[0;34m'using'\u001b[0m\u001b[0;34m:\u001b[0m \u001b[0mby\u001b[0m\u001b[0;34m,\u001b[0m\u001b[0;34m\u001b[0m\u001b[0;34m\u001b[0m\u001b[0m\n\u001b[1;32m    859\u001b[0m             'value': value})['value']\n",
      "\u001b[0;32m~/anaconda3/lib/python3.9/site-packages/selenium/webdriver/remote/webdriver.py\u001b[0m in \u001b[0;36mexecute\u001b[0;34m(self, driver_command, params)\u001b[0m\n\u001b[1;32m    433\u001b[0m         \u001b[0mresponse\u001b[0m \u001b[0;34m=\u001b[0m \u001b[0mself\u001b[0m\u001b[0;34m.\u001b[0m\u001b[0mcommand_executor\u001b[0m\u001b[0;34m.\u001b[0m\u001b[0mexecute\u001b[0m\u001b[0;34m(\u001b[0m\u001b[0mdriver_command\u001b[0m\u001b[0;34m,\u001b[0m \u001b[0mparams\u001b[0m\u001b[0;34m)\u001b[0m\u001b[0;34m\u001b[0m\u001b[0;34m\u001b[0m\u001b[0m\n\u001b[1;32m    434\u001b[0m         \u001b[0;32mif\u001b[0m \u001b[0mresponse\u001b[0m\u001b[0;34m:\u001b[0m\u001b[0;34m\u001b[0m\u001b[0;34m\u001b[0m\u001b[0m\n\u001b[0;32m--> 435\u001b[0;31m             \u001b[0mself\u001b[0m\u001b[0;34m.\u001b[0m\u001b[0merror_handler\u001b[0m\u001b[0;34m.\u001b[0m\u001b[0mcheck_response\u001b[0m\u001b[0;34m(\u001b[0m\u001b[0mresponse\u001b[0m\u001b[0;34m)\u001b[0m\u001b[0;34m\u001b[0m\u001b[0;34m\u001b[0m\u001b[0m\n\u001b[0m\u001b[1;32m    436\u001b[0m             response['value'] = self._unwrap_value(\n\u001b[1;32m    437\u001b[0m                 response.get('value', None))\n",
      "\u001b[0;32m~/anaconda3/lib/python3.9/site-packages/selenium/webdriver/remote/errorhandler.py\u001b[0m in \u001b[0;36mcheck_response\u001b[0;34m(self, response)\u001b[0m\n\u001b[1;32m    245\u001b[0m                 \u001b[0malert_text\u001b[0m \u001b[0;34m=\u001b[0m \u001b[0mvalue\u001b[0m\u001b[0;34m[\u001b[0m\u001b[0;34m'alert'\u001b[0m\u001b[0;34m]\u001b[0m\u001b[0;34m.\u001b[0m\u001b[0mget\u001b[0m\u001b[0;34m(\u001b[0m\u001b[0;34m'text'\u001b[0m\u001b[0;34m)\u001b[0m\u001b[0;34m\u001b[0m\u001b[0;34m\u001b[0m\u001b[0m\n\u001b[1;32m    246\u001b[0m             \u001b[0;32mraise\u001b[0m \u001b[0mexception_class\u001b[0m\u001b[0;34m(\u001b[0m\u001b[0mmessage\u001b[0m\u001b[0;34m,\u001b[0m \u001b[0mscreen\u001b[0m\u001b[0;34m,\u001b[0m \u001b[0mstacktrace\u001b[0m\u001b[0;34m,\u001b[0m \u001b[0malert_text\u001b[0m\u001b[0;34m)\u001b[0m  \u001b[0;31m# type: ignore[call-arg]  # mypy is not smart enough here\u001b[0m\u001b[0;34m\u001b[0m\u001b[0;34m\u001b[0m\u001b[0m\n\u001b[0;32m--> 247\u001b[0;31m         \u001b[0;32mraise\u001b[0m \u001b[0mexception_class\u001b[0m\u001b[0;34m(\u001b[0m\u001b[0mmessage\u001b[0m\u001b[0;34m,\u001b[0m \u001b[0mscreen\u001b[0m\u001b[0;34m,\u001b[0m \u001b[0mstacktrace\u001b[0m\u001b[0;34m)\u001b[0m\u001b[0;34m\u001b[0m\u001b[0;34m\u001b[0m\u001b[0m\n\u001b[0m\u001b[1;32m    248\u001b[0m \u001b[0;34m\u001b[0m\u001b[0m\n\u001b[1;32m    249\u001b[0m     \u001b[0;32mdef\u001b[0m \u001b[0m_value_or_default\u001b[0m\u001b[0;34m(\u001b[0m\u001b[0mself\u001b[0m\u001b[0;34m,\u001b[0m \u001b[0mobj\u001b[0m\u001b[0;34m:\u001b[0m \u001b[0mMapping\u001b[0m\u001b[0;34m[\u001b[0m\u001b[0m_KT\u001b[0m\u001b[0;34m,\u001b[0m \u001b[0m_VT\u001b[0m\u001b[0;34m]\u001b[0m\u001b[0;34m,\u001b[0m \u001b[0mkey\u001b[0m\u001b[0;34m:\u001b[0m \u001b[0m_KT\u001b[0m\u001b[0;34m,\u001b[0m \u001b[0mdefault\u001b[0m\u001b[0;34m:\u001b[0m \u001b[0m_VT\u001b[0m\u001b[0;34m)\u001b[0m \u001b[0;34m->\u001b[0m \u001b[0m_VT\u001b[0m\u001b[0;34m:\u001b[0m\u001b[0;34m\u001b[0m\u001b[0;34m\u001b[0m\u001b[0m\n",
      "\u001b[0;31mNoSuchElementException\u001b[0m: Message: no such element: Unable to locate element: {\"method\":\"css selector\",\"selector\":\"#gs_n > center > table > tbody > tr > td:nth-child(12) > a > b\"}\n  (Session info: chrome=103.0.5060.53)\nStacktrace:\n#0 0x5618c4c49b13 <unknown>\n#1 0x5618c4a50688 <unknown>\n#2 0x5618c4a87cc7 <unknown>\n#3 0x5618c4a87e91 <unknown>\n#4 0x5618c4abae34 <unknown>\n#5 0x5618c4aa58dd <unknown>\n#6 0x5618c4ab8b94 <unknown>\n#7 0x5618c4aa57a3 <unknown>\n#8 0x5618c4a7b0ea <unknown>\n#9 0x5618c4a7c225 <unknown>\n#10 0x5618c4c912dd <unknown>\n#11 0x5618c4c952c7 <unknown>\n#12 0x5618c4c7b22e <unknown>\n#13 0x5618c4c960a8 <unknown>\n#14 0x5618c4c6fbc0 <unknown>\n#15 0x5618c4cb26c8 <unknown>\n#16 0x5618c4cb2848 <unknown>\n#17 0x5618c4cccc0d <unknown>\n#18 0x7fe681088609 <unknown>\n"
     ]
    }
   ],
   "source": [
    "data = []\n",
    "no = 1\n",
    "while True:\n",
    "    c = 1\n",
    "    while True:\n",
    "        try:\n",
    "            if no%50 == 0:\n",
    "                print(no)\n",
    "            title = driver.find_element(By.CSS_SELECTOR, value = f'#gs_res_ccl_mid > div:nth-child({c}) > div.gs_ri > h3').text\n",
    "            abstract = driver.find_element(By.CSS_SELECTOR, value = f'#gs_res_ccl_mid > div:nth-child({c}) > div.gs_ri > div.gs_rs').text\n",
    "            refers = driver.find_element(By.CSS_SELECTOR, value = f'#gs_res_ccl_mid > div:nth-child({c}) > div.gs_ri > div.gs_fl > a:nth-child(3)').text\n",
    "            c+=1\n",
    "            no+=1\n",
    "            data.append(dict(title=title, abstract = abstract, refers = refers))\n",
    "        except:\n",
    "            break\n",
    "    try:\n",
    "        next_link = driver.find_element(By.CSS_SELECTOR, value = '#gs_n > center > table > tbody > tr > td:nth-child(12) > a > b')\n",
    "        if next_link:\n",
    "            # somthing element 까지 스크롤\n",
    "            action = ActionChains(driver)\n",
    "            action.move_to_element(next_link)\n",
    "            driver.implicitly_wait(1)\n",
    "            next_link.click()\n",
    "            driver.implicitly_wait(5)\n",
    "    except:\n",
    "        break    "
   ]
  },
  {
   "cell_type": "code",
   "execution_count": 17,
   "id": "b60bd9ef-f98a-4aa6-a513-df1f82d4b072",
   "metadata": {},
   "outputs": [],
   "source": [
    "import pandas as pd\n",
    "data = pd.DataFrame(data)"
   ]
  },
  {
   "cell_type": "code",
   "execution_count": 19,
   "id": "b76712f1-09c6-4bba-8838-864f5c82ee9c",
   "metadata": {},
   "outputs": [],
   "source": [
    "data.to_csv('./wow_paper.csv',encoding = 'utf-8')"
   ]
  }
 ],
 "metadata": {
  "kernelspec": {
   "display_name": "Python 3 (ipykernel)",
   "language": "python",
   "name": "python3"
  },
  "language_info": {
   "codemirror_mode": {
    "name": "ipython",
    "version": 3
   },
   "file_extension": ".py",
   "mimetype": "text/x-python",
   "name": "python",
   "nbconvert_exporter": "python",
   "pygments_lexer": "ipython3",
   "version": "3.9.7"
  }
 },
 "nbformat": 4,
 "nbformat_minor": 5
}
