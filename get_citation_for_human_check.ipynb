{
 "cells": [
  {
   "cell_type": "code",
   "execution_count": 5,
   "id": "f87e1161-aa54-4c95-8dda-6daf2e37a342",
   "metadata": {},
   "outputs": [],
   "source": [
    "from selenium import webdriver\n",
    "from selenium.webdriver.common.by import By\n",
    "from selenium.webdriver import ActionChains"
   ]
  },
  {
   "cell_type": "code",
   "execution_count": 10,
   "id": "200a751c-0f7a-4d03-ba9b-8a9103769bed",
   "metadata": {},
   "outputs": [],
   "source": [
    "driver = webdriver.Chrome()"
   ]
  },
  {
   "cell_type": "code",
   "execution_count": 11,
   "id": "cb992ac0-01d1-4653-af39-98b86bfea32c",
   "metadata": {},
   "outputs": [],
   "source": [
    "url = 'https://scholar.google.com/scholar?cites=10143779580305681961&as_sdt=2005&sciodt=0,5&hl=ko'\n",
    "driver.get(url)"
   ]
  },
  {
   "cell_type": "code",
   "execution_count": null,
   "id": "ff64feed-6b16-44f0-ad4c-ef19bf565ae5",
   "metadata": {},
   "outputs": [
    {
     "name": "stdout",
     "output_type": "stream",
     "text": [
      "50\n"
     ]
    }
   ],
   "source": [
    "data = []\n",
    "no = 1\n",
    "while True:\n",
    "    c = 1\n",
    "    while True:\n",
    "        try:\n",
    "            if no%50 == 0:\n",
    "                print(no)\n",
    "            title = driver.find_element(By.CSS_SELECTOR, value = f'#gs_res_ccl_mid > div:nth-child({c}) > div.gs_ri > h3').text\n",
    "            abstract = driver.find_element(By.CSS_SELECTOR, value = f'#gs_res_ccl_mid > div:nth-child({c}) > div.gs_ri > div.gs_rs').text\n",
    "            refers = driver.find_element(By.CSS_SELECTOR, value = f'#gs_res_ccl_mid > div:nth-child({c}) > div.gs_ri > div.gs_fl > a:nth-child(3)').text\n",
    "            c+=1\n",
    "            no+=1\n",
    "            data.append(dict(title=title, abstract = abstract, refers = refers))\n",
    "        except:\n",
    "            break\n",
    "    next_link = driver.find_element(By.CSS_SELECTOR, value = '#gs_n > center > table > tbody > tr > td:nth-child(12) > a > b')\n",
    "    if next_link:\n",
    "        # somthing element 까지 스크롤\n",
    "        action = ActionChains(driver)\n",
    "        action.move_to_element(next_link)\n",
    "        driver.implicitly_wait(1)\n",
    "        next_link.click()\n",
    "        driver.implicitly_wait(5)\n",
    "    else:\n",
    "        break    "
   ]
  }
 ],
 "metadata": {
  "kernelspec": {
   "display_name": "Python 3 (ipykernel)",
   "language": "python",
   "name": "python3"
  },
  "language_info": {
   "codemirror_mode": {
    "name": "ipython",
    "version": 3
   },
   "file_extension": ".py",
   "mimetype": "text/x-python",
   "name": "python",
   "nbconvert_exporter": "python",
   "pygments_lexer": "ipython3",
   "version": "3.9.7"
  }
 },
 "nbformat": 4,
 "nbformat_minor": 5
}
